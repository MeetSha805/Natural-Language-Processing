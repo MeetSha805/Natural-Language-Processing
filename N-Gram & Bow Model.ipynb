{
 "cells": [
  {
   "cell_type": "code",
   "execution_count": 19,
   "metadata": {},
   "outputs": [
    {
     "name": "stdout",
     "output_type": "stream",
     "text": [
      "\n",
      "🔹 Bigram Probabilities:\n",
      "P(love | i) = 1.00\n",
      "P(exploring | love) = 0.50\n",
      "P(new | exploring) = 1.00\n",
      "P(things | new) = 1.00\n",
      "P(. | things) = 1.00\n",
      "P(i | .) = 0.50\n",
      "P(playing | love) = 0.50\n",
      "P(cricket | playing) = 1.00\n",
      "P(. | cricket) = 1.00\n",
      "\n",
      "🔹 Next word prediction:\n",
      "Next word after 'i': love\n",
      "Next word after 'love': exploring\n"
     ]
    }
   ],
   "source": [
    "import nltk\n",
    "from nltk.util import ngrams\n",
    "from collections import defaultdict, Counter\n",
    "import math\n",
    "\n",
    "# Sample training text\n",
    "text = \"I love exploring new things. I love playing cricket.\"\n",
    "\n",
    "# Step 1: Tokenize text\n",
    "tokens = nltk.word_tokenize(text.lower())  # Convert to lowercase for consistency\n",
    "\n",
    "# Step 2: Generate bigrams (pairs of two words)\n",
    "bigrams = list(ngrams(tokens, 2))\n",
    "\n",
    "# Step 3: Count occurrences of words and bigrams\n",
    "word_counts = Counter(tokens)  # Count individual words\n",
    "bigram_counts = Counter(bigrams)  # Count word pairs\n",
    "\n",
    "# Step 4: Compute probability for each bigram\n",
    "bigram_probabilities = {}\n",
    "\n",
    "for (w1, w2), count in bigram_counts.items():\n",
    "    probability = count / word_counts[w1]  # Apply formula P(w2 | w1)\n",
    "    bigram_probabilities[(w1, w2)] = probability\n",
    "\n",
    "# Step 5: Display results\n",
    "print(\"\\n🔹 Bigram Probabilities:\")\n",
    "for (w1, w2), prob in bigram_probabilities.items():\n",
    "    print(f\"P({w2} | {w1}) = {prob:.2f}\")\n",
    "\n",
    "# Step 6: Predict the next word given a starting word\n",
    "def predict_next_word(word):\n",
    "    candidates = {pair[1]: prob for pair, prob in bigram_probabilities.items() if pair[0] == word}\n",
    "    if candidates:\n",
    "        return max(candidates, key=candidates.get)  # Return word with highest probability\n",
    "    else:\n",
    "        return \"No prediction available\"\n",
    "\n",
    "# Example prediction\n",
    "print(\"\\n🔹 Next word prediction:\")\n",
    "print(f\"Next word after 'i': {predict_next_word('i')}\")\n",
    "print(f\"Next word after 'love': {predict_next_word('love')}\")\n"
   ]
  }
 ],
 "metadata": {
  "kernelspec": {
   "display_name": "Python 3",
   "language": "python",
   "name": "python3"
  },
  "language_info": {
   "codemirror_mode": {
    "name": "ipython",
    "version": 3
   },
   "file_extension": ".py",
   "mimetype": "text/x-python",
   "name": "python",
   "nbconvert_exporter": "python",
   "pygments_lexer": "ipython3",
   "version": "3.12.4"
  }
 },
 "nbformat": 4,
 "nbformat_minor": 2
}
